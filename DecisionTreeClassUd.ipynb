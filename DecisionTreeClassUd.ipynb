{
  "nbformat": 4,
  "nbformat_minor": 0,
  "metadata": {
    "colab": {
      "name": "DecisionTreeClassUd.ipynb",
      "provenance": [],
      "authorship_tag": "ABX9TyPN0BNp+B+y32bDfBn0tw99",
      "include_colab_link": true
    },
    "kernelspec": {
      "name": "python3",
      "display_name": "Python 3"
    }
  },
  "cells": [
    {
      "cell_type": "markdown",
      "metadata": {
        "id": "view-in-github",
        "colab_type": "text"
      },
      "source": [
        "<a href=\"https://colab.research.google.com/github/LimLawrence/LearningCodes/blob/master/DecisionTreeClassUd.ipynb\" target=\"_parent\"><img src=\"https://colab.research.google.com/assets/colab-badge.svg\" alt=\"Open In Colab\"/></a>"
      ]
    },
    {
      "cell_type": "markdown",
      "metadata": {
        "id": "B_zk6IyLVcxD"
      },
      "source": [
        "Importing Libraries"
      ]
    },
    {
      "cell_type": "code",
      "metadata": {
        "id": "mMYEsmZNVOqm"
      },
      "source": [
        "import numpy as np\n",
        "import matplotlib.pyplot as plt\n",
        "import pandas as pd"
      ],
      "execution_count": 1,
      "outputs": []
    },
    {
      "cell_type": "markdown",
      "metadata": {
        "id": "CLLpit9CYm3P"
      },
      "source": [
        ""
      ]
    },
    {
      "cell_type": "markdown",
      "metadata": {
        "id": "viKPKJSbVzB4"
      },
      "source": [
        "Import Dataset"
      ]
    },
    {
      "cell_type": "code",
      "metadata": {
        "id": "3Auc2SBvVYYA",
        "colab": {
          "base_uri": "https://localhost:8080/",
          "height": 206
        },
        "outputId": "037274ca-b18d-48b0-8629-ab452f4577e2"
      },
      "source": [
        "#upload and enter filename - let dependent var be last col\n",
        "#file in Udemy Classification folder\n",
        "#dataset=pd.read_excel(path1,'Sales',parse_dates=True)\n",
        "dataset = pd.read_csv('Social_Network_Ads.csv')\n",
        "\n",
        "# hot encoder for categorical vars - new col for each value\n",
        "dataset = pd.get_dummies(dataset, columns=['Gender'])\n",
        "\n",
        "# reorder cols to put target var last: df2=df1[df1.columns[[3,2,1,0]]]\n",
        "dataset=dataset[dataset.columns[[0,1,2,4,5,3]]]\n",
        "dataset.head()\n"
      ],
      "execution_count": 2,
      "outputs": [
        {
          "output_type": "execute_result",
          "data": {
            "text/html": [
              "<div>\n",
              "<style scoped>\n",
              "    .dataframe tbody tr th:only-of-type {\n",
              "        vertical-align: middle;\n",
              "    }\n",
              "\n",
              "    .dataframe tbody tr th {\n",
              "        vertical-align: top;\n",
              "    }\n",
              "\n",
              "    .dataframe thead th {\n",
              "        text-align: right;\n",
              "    }\n",
              "</style>\n",
              "<table border=\"1\" class=\"dataframe\">\n",
              "  <thead>\n",
              "    <tr style=\"text-align: right;\">\n",
              "      <th></th>\n",
              "      <th>User ID</th>\n",
              "      <th>Age</th>\n",
              "      <th>EstimatedSalary</th>\n",
              "      <th>Gender_Female</th>\n",
              "      <th>Gender_Male</th>\n",
              "      <th>Purchased</th>\n",
              "    </tr>\n",
              "  </thead>\n",
              "  <tbody>\n",
              "    <tr>\n",
              "      <th>0</th>\n",
              "      <td>15624510</td>\n",
              "      <td>19</td>\n",
              "      <td>19000</td>\n",
              "      <td>0</td>\n",
              "      <td>1</td>\n",
              "      <td>0</td>\n",
              "    </tr>\n",
              "    <tr>\n",
              "      <th>1</th>\n",
              "      <td>15810944</td>\n",
              "      <td>35</td>\n",
              "      <td>20000</td>\n",
              "      <td>0</td>\n",
              "      <td>1</td>\n",
              "      <td>0</td>\n",
              "    </tr>\n",
              "    <tr>\n",
              "      <th>2</th>\n",
              "      <td>15668575</td>\n",
              "      <td>26</td>\n",
              "      <td>43000</td>\n",
              "      <td>1</td>\n",
              "      <td>0</td>\n",
              "      <td>0</td>\n",
              "    </tr>\n",
              "    <tr>\n",
              "      <th>3</th>\n",
              "      <td>15603246</td>\n",
              "      <td>27</td>\n",
              "      <td>57000</td>\n",
              "      <td>1</td>\n",
              "      <td>0</td>\n",
              "      <td>0</td>\n",
              "    </tr>\n",
              "    <tr>\n",
              "      <th>4</th>\n",
              "      <td>15804002</td>\n",
              "      <td>19</td>\n",
              "      <td>76000</td>\n",
              "      <td>0</td>\n",
              "      <td>1</td>\n",
              "      <td>0</td>\n",
              "    </tr>\n",
              "  </tbody>\n",
              "</table>\n",
              "</div>"
            ],
            "text/plain": [
              "    User ID  Age  EstimatedSalary  Gender_Female  Gender_Male  Purchased\n",
              "0  15624510   19            19000              0            1          0\n",
              "1  15810944   35            20000              0            1          0\n",
              "2  15668575   26            43000              1            0          0\n",
              "3  15603246   27            57000              1            0          0\n",
              "4  15804002   19            76000              0            1          0"
            ]
          },
          "metadata": {
            "tags": []
          },
          "execution_count": 2
        }
      ]
    },
    {
      "cell_type": "code",
      "metadata": {
        "colab": {
          "base_uri": "https://localhost:8080/",
          "height": 206
        },
        "id": "LOubKmyvKqf9",
        "outputId": "1589bdd2-523b-4bda-a52d-05edd35f3f7f"
      },
      "source": [
        "X = dataset.iloc[:, :-1].values\n",
        "y = dataset.iloc[:, -1].values\n"
      ],
      "execution_count": 3,
      "outputs": [
        {
          "output_type": "execute_result",
          "data": {
            "text/html": [
              "<div>\n",
              "<style scoped>\n",
              "    .dataframe tbody tr th:only-of-type {\n",
              "        vertical-align: middle;\n",
              "    }\n",
              "\n",
              "    .dataframe tbody tr th {\n",
              "        vertical-align: top;\n",
              "    }\n",
              "\n",
              "    .dataframe thead th {\n",
              "        text-align: right;\n",
              "    }\n",
              "</style>\n",
              "<table border=\"1\" class=\"dataframe\">\n",
              "  <thead>\n",
              "    <tr style=\"text-align: right;\">\n",
              "      <th></th>\n",
              "      <th>User ID</th>\n",
              "      <th>Age</th>\n",
              "      <th>EstimatedSalary</th>\n",
              "      <th>Gender_Female</th>\n",
              "      <th>Gender_Male</th>\n",
              "      <th>Purchased</th>\n",
              "    </tr>\n",
              "  </thead>\n",
              "  <tbody>\n",
              "    <tr>\n",
              "      <th>0</th>\n",
              "      <td>15624510</td>\n",
              "      <td>19</td>\n",
              "      <td>19000</td>\n",
              "      <td>0</td>\n",
              "      <td>1</td>\n",
              "      <td>0</td>\n",
              "    </tr>\n",
              "    <tr>\n",
              "      <th>1</th>\n",
              "      <td>15810944</td>\n",
              "      <td>35</td>\n",
              "      <td>20000</td>\n",
              "      <td>0</td>\n",
              "      <td>1</td>\n",
              "      <td>0</td>\n",
              "    </tr>\n",
              "    <tr>\n",
              "      <th>2</th>\n",
              "      <td>15668575</td>\n",
              "      <td>26</td>\n",
              "      <td>43000</td>\n",
              "      <td>1</td>\n",
              "      <td>0</td>\n",
              "      <td>0</td>\n",
              "    </tr>\n",
              "    <tr>\n",
              "      <th>3</th>\n",
              "      <td>15603246</td>\n",
              "      <td>27</td>\n",
              "      <td>57000</td>\n",
              "      <td>1</td>\n",
              "      <td>0</td>\n",
              "      <td>0</td>\n",
              "    </tr>\n",
              "    <tr>\n",
              "      <th>4</th>\n",
              "      <td>15804002</td>\n",
              "      <td>19</td>\n",
              "      <td>76000</td>\n",
              "      <td>0</td>\n",
              "      <td>1</td>\n",
              "      <td>0</td>\n",
              "    </tr>\n",
              "  </tbody>\n",
              "</table>\n",
              "</div>"
            ],
            "text/plain": [
              "    User ID  Age  EstimatedSalary  Gender_Female  Gender_Male  Purchased\n",
              "0  15624510   19            19000              0            1          0\n",
              "1  15810944   35            20000              0            1          0\n",
              "2  15668575   26            43000              1            0          0\n",
              "3  15603246   27            57000              1            0          0\n",
              "4  15804002   19            76000              0            1          0"
            ]
          },
          "metadata": {
            "tags": []
          },
          "execution_count": 3
        }
      ]
    },
    {
      "cell_type": "markdown",
      "metadata": {
        "id": "PYccutsmXVqf"
      },
      "source": [
        "Split Data - Training and Test Datasets"
      ]
    },
    {
      "cell_type": "code",
      "metadata": {
        "id": "H13-rGWbXcrD"
      },
      "source": [
        "# 2 wasys to split - manually or taking values\n",
        "\n",
        "from sklearn.model_selection import train_test_split\n",
        "X_train, X_test, y_train, y_test = train_test_split(X, y, test_size = 0.25, random_state = 0)\n"
      ],
      "execution_count": 10,
      "outputs": []
    },
    {
      "cell_type": "markdown",
      "metadata": {
        "id": "yu79YVB8Ycf7"
      },
      "source": [
        "Feature Scaling"
      ]
    },
    {
      "cell_type": "code",
      "metadata": {
        "id": "vrzMJn9XXeFi"
      },
      "source": [
        "from sklearn.preprocessing import StandardScaler\n",
        "sc = StandardScaler()\n",
        "X_train = sc.fit_transform(X_train)\n",
        "X_test = sc.transform(X_test)"
      ],
      "execution_count": 5,
      "outputs": []
    },
    {
      "cell_type": "markdown",
      "metadata": {
        "id": "6zezeximYe_M"
      },
      "source": [
        "** Fit Classifier to Training Set"
      ]
    },
    {
      "cell_type": "code",
      "metadata": {
        "id": "x1KRk0R2YlHE",
        "colab": {
          "base_uri": "https://localhost:8080/"
        },
        "outputId": "c9893fca-11f0-4a2e-f29f-2beb8afa02d7"
      },
      "source": [
        "# Fitting Decision Tree Classification to the Training set\n",
        "from sklearn import tree\n",
        "#from sklearn.tree import DecisionTreeClassifier\n",
        "classifier = DecisionTreeClassifier(criterion = 'entropy', random_state = 0, max_depth=5)\n",
        "t = classifier.fit(X_train, y_train)\n",
        "print(t)"
      ],
      "execution_count": 48,
      "outputs": [
        {
          "output_type": "stream",
          "text": [
            "DecisionTreeClassifier(ccp_alpha=0.0, class_weight=None, criterion='entropy',\n",
            "                       max_depth=5, max_features=None, max_leaf_nodes=None,\n",
            "                       min_impurity_decrease=0.0, min_impurity_split=None,\n",
            "                       min_samples_leaf=1, min_samples_split=2,\n",
            "                       min_weight_fraction_leaf=0.0, presort='deprecated',\n",
            "                       random_state=0, splitter='best')\n"
          ],
          "name": "stdout"
        }
      ]
    },
    {
      "cell_type": "markdown",
      "metadata": {
        "id": "f1MrHrQ0Y6No"
      },
      "source": [
        "Confusion Matrix"
      ]
    },
    {
      "cell_type": "code",
      "metadata": {
        "id": "4BcNa9aRY6X7",
        "colab": {
          "base_uri": "https://localhost:8080/"
        },
        "outputId": "c5dcb067-d8d5-4fac-fb9b-c2fd507d5bbe"
      },
      "source": [
        "from sklearn.metrics import confusion_matrix, accuracy_score\n",
        "\n",
        "# Predicting the Test set results\n",
        "y_pred = classifier.predict(X_test)\n",
        "\n",
        "cm = confusion_matrix(y_test, y_pred)\n",
        "\n",
        "print(cm)\n",
        "\n",
        "#score or accuracy_score \n",
        "# sc= t.score(dataset.iloc[:,:-1], dataset.iloc[:,-1])\n",
        "accuracy_score(y_test, y_pred)"
      ],
      "execution_count": 50,
      "outputs": [
        {
          "output_type": "stream",
          "text": [
            "[[64  4]\n",
            " [ 6 26]]\n"
          ],
          "name": "stdout"
        },
        {
          "output_type": "execute_result",
          "data": {
            "text/plain": [
              "0.9"
            ]
          },
          "metadata": {
            "tags": []
          },
          "execution_count": 50
        }
      ]
    },
    {
      "cell_type": "code",
      "metadata": {
        "colab": {
          "base_uri": "https://localhost:8080/",
          "height": 816
        },
        "id": "8vEMDaIgB3Lg",
        "outputId": "e0a6b56a-b7e8-4c9f-d26e-2b5c9cdfc1e8"
      },
      "source": [
        "# visualize tree \n",
        "\n",
        "# need to get the X train col names but X_train are just the values\n",
        "X_att = dataset.iloc[:, :-1]\n",
        "\n",
        "import graphviz\n",
        "dot_data = tree.export_graphviz(t, out_file=None, label=\"all\", impurity=False, proportion=True,feature_names= list(X_att), class_names=[\"NotPurch\", \"Purchased\"], filled=True, rounded=True)\n",
        "graph = graphviz.Source(dot_data)\n",
        "graph"
      ],
      "execution_count": 53,
      "outputs": [
        {
          "output_type": "execute_result",
          "data": {
            "text/plain": [
              "<graphviz.files.Source at 0x7f8fa8eaf978>"
            ],
            "image/svg+xml": "<?xml version=\"1.0\" encoding=\"UTF-8\" standalone=\"no\"?>\n<!DOCTYPE svg PUBLIC \"-//W3C//DTD SVG 1.1//EN\"\n \"http://www.w3.org/Graphics/SVG/1.1/DTD/svg11.dtd\">\n<!-- Generated by graphviz version 2.40.1 (20161225.0304)\n -->\n<!-- Title: Tree Pages: 1 -->\n<svg width=\"1800pt\" height=\"581pt\"\n viewBox=\"0.00 0.00 1799.50 581.00\" xmlns=\"http://www.w3.org/2000/svg\" xmlns:xlink=\"http://www.w3.org/1999/xlink\">\n<g id=\"graph0\" class=\"graph\" transform=\"scale(1 1) rotate(0) translate(4 577)\">\n<title>Tree</title>\n<polygon fill=\"#ffffff\" stroke=\"transparent\" points=\"-4,4 -4,-577 1795.5,-577 1795.5,4 -4,4\"/>\n<!-- 0 -->\n<g id=\"node1\" class=\"node\">\n<title>0</title>\n<path fill=\"#f4cbad\" stroke=\"#000000\" d=\"M819,-573C819,-573 703,-573 703,-573 697,-573 691,-567 691,-561 691,-561 691,-517 691,-517 691,-511 697,-505 703,-505 703,-505 819,-505 819,-505 825,-505 831,-511 831,-517 831,-517 831,-561 831,-561 831,-567 825,-573 819,-573\"/>\n<text text-anchor=\"middle\" x=\"761\" y=\"-557.8\" font-family=\"Helvetica,sans-Serif\" font-size=\"14.00\" fill=\"#000000\">Age &lt;= 44.5</text>\n<text text-anchor=\"middle\" x=\"761\" y=\"-542.8\" font-family=\"Helvetica,sans-Serif\" font-size=\"14.00\" fill=\"#000000\">samples = 100.0%</text>\n<text text-anchor=\"middle\" x=\"761\" y=\"-527.8\" font-family=\"Helvetica,sans-Serif\" font-size=\"14.00\" fill=\"#000000\">value = [0.63, 0.37]</text>\n<text text-anchor=\"middle\" x=\"761\" y=\"-512.8\" font-family=\"Helvetica,sans-Serif\" font-size=\"14.00\" fill=\"#000000\">class = NotPurch</text>\n</g>\n<!-- 1 -->\n<g id=\"node2\" class=\"node\">\n<title>1</title>\n<path fill=\"#eb9e66\" stroke=\"#000000\" d=\"M649,-469C649,-469 473,-469 473,-469 467,-469 461,-463 461,-457 461,-457 461,-413 461,-413 461,-407 467,-401 473,-401 473,-401 649,-401 649,-401 655,-401 661,-407 661,-413 661,-413 661,-457 661,-457 661,-463 655,-469 649,-469\"/>\n<text text-anchor=\"middle\" x=\"561\" y=\"-453.8\" font-family=\"Helvetica,sans-Serif\" font-size=\"14.00\" fill=\"#000000\">EstimatedSalary &lt;= 90500.0</text>\n<text text-anchor=\"middle\" x=\"561\" y=\"-438.8\" font-family=\"Helvetica,sans-Serif\" font-size=\"14.00\" fill=\"#000000\">samples = 71.7%</text>\n<text text-anchor=\"middle\" x=\"561\" y=\"-423.8\" font-family=\"Helvetica,sans-Serif\" font-size=\"14.00\" fill=\"#000000\">value = [0.814, 0.186]</text>\n<text text-anchor=\"middle\" x=\"561\" y=\"-408.8\" font-family=\"Helvetica,sans-Serif\" font-size=\"14.00\" fill=\"#000000\">class = NotPurch</text>\n</g>\n<!-- 0&#45;&gt;1 -->\n<g id=\"edge1\" class=\"edge\">\n<title>0&#45;&gt;1</title>\n<path fill=\"none\" stroke=\"#000000\" d=\"M695.5125,-504.9465C676.3468,-494.9803 655.2533,-484.0117 635.5681,-473.7754\"/>\n<polygon fill=\"#000000\" stroke=\"#000000\" points=\"637.1215,-470.6383 626.6346,-469.13 633.892,-476.8488 637.1215,-470.6383\"/>\n<text text-anchor=\"middle\" x=\"634.1629\" y=\"-489.2696\" font-family=\"Helvetica,sans-Serif\" font-size=\"14.00\" fill=\"#000000\">True</text>\n</g>\n<!-- 16 -->\n<g id=\"node17\" class=\"node\">\n<title>16</title>\n<path fill=\"#60b0ea\" stroke=\"#000000\" d=\"M1031,-469C1031,-469 855,-469 855,-469 849,-469 843,-463 843,-457 843,-457 843,-413 843,-413 843,-407 849,-401 855,-401 855,-401 1031,-401 1031,-401 1037,-401 1043,-407 1043,-413 1043,-413 1043,-457 1043,-457 1043,-463 1037,-469 1031,-469\"/>\n<text text-anchor=\"middle\" x=\"943\" y=\"-453.8\" font-family=\"Helvetica,sans-Serif\" font-size=\"14.00\" fill=\"#000000\">EstimatedSalary &lt;= 41500.0</text>\n<text text-anchor=\"middle\" x=\"943\" y=\"-438.8\" font-family=\"Helvetica,sans-Serif\" font-size=\"14.00\" fill=\"#000000\">samples = 28.3%</text>\n<text text-anchor=\"middle\" x=\"943\" y=\"-423.8\" font-family=\"Helvetica,sans-Serif\" font-size=\"14.00\" fill=\"#000000\">value = [0.165, 0.835]</text>\n<text text-anchor=\"middle\" x=\"943\" y=\"-408.8\" font-family=\"Helvetica,sans-Serif\" font-size=\"14.00\" fill=\"#000000\">class = Purchased</text>\n</g>\n<!-- 0&#45;&gt;16 -->\n<g id=\"edge16\" class=\"edge\">\n<title>0&#45;&gt;16</title>\n<path fill=\"none\" stroke=\"#000000\" d=\"M820.5936,-504.9465C837.7202,-495.1599 856.5384,-484.4066 874.1735,-474.3294\"/>\n<polygon fill=\"#000000\" stroke=\"#000000\" points=\"876.3266,-477.1303 883.2725,-469.13 872.8536,-471.0526 876.3266,-477.1303\"/>\n<text text-anchor=\"middle\" x=\"876.6946\" y=\"-489.5491\" font-family=\"Helvetica,sans-Serif\" font-size=\"14.00\" fill=\"#000000\">False</text>\n</g>\n<!-- 2 -->\n<g id=\"node3\" class=\"node\">\n<title>2</title>\n<path fill=\"#e68641\" stroke=\"#000000\" d=\"M304,-365C304,-365 188,-365 188,-365 182,-365 176,-359 176,-353 176,-353 176,-309 176,-309 176,-303 182,-297 188,-297 188,-297 304,-297 304,-297 310,-297 316,-303 316,-309 316,-309 316,-353 316,-353 316,-359 310,-365 304,-365\"/>\n<text text-anchor=\"middle\" x=\"246\" y=\"-349.8\" font-family=\"Helvetica,sans-Serif\" font-size=\"14.00\" fill=\"#000000\">Age &lt;= 36.5</text>\n<text text-anchor=\"middle\" x=\"246\" y=\"-334.8\" font-family=\"Helvetica,sans-Serif\" font-size=\"14.00\" fill=\"#000000\">samples = 58.7%</text>\n<text text-anchor=\"middle\" x=\"246\" y=\"-319.8\" font-family=\"Helvetica,sans-Serif\" font-size=\"14.00\" fill=\"#000000\">value = [0.96, 0.04]</text>\n<text text-anchor=\"middle\" x=\"246\" y=\"-304.8\" font-family=\"Helvetica,sans-Serif\" font-size=\"14.00\" fill=\"#000000\">class = NotPurch</text>\n</g>\n<!-- 1&#45;&gt;2 -->\n<g id=\"edge2\" class=\"edge\">\n<title>1&#45;&gt;2</title>\n<path fill=\"none\" stroke=\"#000000\" d=\"M460.8992,-401.9509C417.3699,-387.5793 367.0641,-370.9704 326.0727,-357.4367\"/>\n<polygon fill=\"#000000\" stroke=\"#000000\" points=\"326.995,-354.0554 316.4019,-354.2438 324.8004,-360.7025 326.995,-354.0554\"/>\n</g>\n<!-- 9 -->\n<g id=\"node10\" class=\"node\">\n<title>9</title>\n<path fill=\"#5dafea\" stroke=\"#000000\" d=\"M653,-365C653,-365 469,-365 469,-365 463,-365 457,-359 457,-353 457,-353 457,-309 457,-309 457,-303 463,-297 469,-297 469,-297 653,-297 653,-297 659,-297 665,-303 665,-309 665,-309 665,-353 665,-353 665,-359 659,-365 653,-365\"/>\n<text text-anchor=\"middle\" x=\"561\" y=\"-349.8\" font-family=\"Helvetica,sans-Serif\" font-size=\"14.00\" fill=\"#000000\">EstimatedSalary &lt;= 133500.0</text>\n<text text-anchor=\"middle\" x=\"561\" y=\"-334.8\" font-family=\"Helvetica,sans-Serif\" font-size=\"14.00\" fill=\"#000000\">samples = 13.0%</text>\n<text text-anchor=\"middle\" x=\"561\" y=\"-319.8\" font-family=\"Helvetica,sans-Serif\" font-size=\"14.00\" fill=\"#000000\">value = [0.154, 0.846]</text>\n<text text-anchor=\"middle\" x=\"561\" y=\"-304.8\" font-family=\"Helvetica,sans-Serif\" font-size=\"14.00\" fill=\"#000000\">class = Purchased</text>\n</g>\n<!-- 1&#45;&gt;9 -->\n<g id=\"edge9\" class=\"edge\">\n<title>1&#45;&gt;9</title>\n<path fill=\"none\" stroke=\"#000000\" d=\"M561,-400.9465C561,-392.776 561,-383.9318 561,-375.3697\"/>\n<polygon fill=\"#000000\" stroke=\"#000000\" points=\"564.5001,-375.13 561,-365.13 557.5001,-375.13 564.5001,-375.13\"/>\n</g>\n<!-- 3 -->\n<g id=\"node4\" class=\"node\">\n<title>3</title>\n<path fill=\"#e58139\" stroke=\"#000000\" d=\"M116,-253.5C116,-253.5 12,-253.5 12,-253.5 6,-253.5 0,-247.5 0,-241.5 0,-241.5 0,-212.5 0,-212.5 0,-206.5 6,-200.5 12,-200.5 12,-200.5 116,-200.5 116,-200.5 122,-200.5 128,-206.5 128,-212.5 128,-212.5 128,-241.5 128,-241.5 128,-247.5 122,-253.5 116,-253.5\"/>\n<text text-anchor=\"middle\" x=\"64\" y=\"-238.3\" font-family=\"Helvetica,sans-Serif\" font-size=\"14.00\" fill=\"#000000\">samples = 38.0%</text>\n<text text-anchor=\"middle\" x=\"64\" y=\"-223.3\" font-family=\"Helvetica,sans-Serif\" font-size=\"14.00\" fill=\"#000000\">value = [1.0, 0.0]</text>\n<text text-anchor=\"middle\" x=\"64\" y=\"-208.3\" font-family=\"Helvetica,sans-Serif\" font-size=\"14.00\" fill=\"#000000\">class = NotPurch</text>\n</g>\n<!-- 2&#45;&gt;3 -->\n<g id=\"edge3\" class=\"edge\">\n<title>2&#45;&gt;3</title>\n<path fill=\"none\" stroke=\"#000000\" d=\"M186.4064,-296.9465C164.8172,-284.6098 140.5399,-270.7371 119.3328,-258.6187\"/>\n<polygon fill=\"#000000\" stroke=\"#000000\" points=\"120.8677,-255.4647 110.4488,-253.5422 117.3947,-261.5425 120.8677,-255.4647\"/>\n</g>\n<!-- 4 -->\n<g id=\"node5\" class=\"node\">\n<title>4</title>\n<path fill=\"#e89152\" stroke=\"#000000\" d=\"M334,-261C334,-261 158,-261 158,-261 152,-261 146,-255 146,-249 146,-249 146,-205 146,-205 146,-199 152,-193 158,-193 158,-193 334,-193 334,-193 340,-193 346,-199 346,-205 346,-205 346,-249 346,-249 346,-255 340,-261 334,-261\"/>\n<text text-anchor=\"middle\" x=\"246\" y=\"-245.8\" font-family=\"Helvetica,sans-Serif\" font-size=\"14.00\" fill=\"#000000\">EstimatedSalary &lt;= 67500.0</text>\n<text text-anchor=\"middle\" x=\"246\" y=\"-230.8\" font-family=\"Helvetica,sans-Serif\" font-size=\"14.00\" fill=\"#000000\">samples = 20.7%</text>\n<text text-anchor=\"middle\" x=\"246\" y=\"-215.8\" font-family=\"Helvetica,sans-Serif\" font-size=\"14.00\" fill=\"#000000\">value = [0.887, 0.113]</text>\n<text text-anchor=\"middle\" x=\"246\" y=\"-200.8\" font-family=\"Helvetica,sans-Serif\" font-size=\"14.00\" fill=\"#000000\">class = NotPurch</text>\n</g>\n<!-- 2&#45;&gt;4 -->\n<g id=\"edge4\" class=\"edge\">\n<title>2&#45;&gt;4</title>\n<path fill=\"none\" stroke=\"#000000\" d=\"M246,-296.9465C246,-288.776 246,-279.9318 246,-271.3697\"/>\n<polygon fill=\"#000000\" stroke=\"#000000\" points=\"249.5001,-271.13 246,-261.13 242.5001,-271.13 249.5001,-271.13\"/>\n</g>\n<!-- 5 -->\n<g id=\"node6\" class=\"node\">\n<title>5</title>\n<path fill=\"#e58139\" stroke=\"#000000\" d=\"M116,-149.5C116,-149.5 12,-149.5 12,-149.5 6,-149.5 0,-143.5 0,-137.5 0,-137.5 0,-108.5 0,-108.5 0,-102.5 6,-96.5 12,-96.5 12,-96.5 116,-96.5 116,-96.5 122,-96.5 128,-102.5 128,-108.5 128,-108.5 128,-137.5 128,-137.5 128,-143.5 122,-149.5 116,-149.5\"/>\n<text text-anchor=\"middle\" x=\"64\" y=\"-134.3\" font-family=\"Helvetica,sans-Serif\" font-size=\"14.00\" fill=\"#000000\">samples = 10.3%</text>\n<text text-anchor=\"middle\" x=\"64\" y=\"-119.3\" font-family=\"Helvetica,sans-Serif\" font-size=\"14.00\" fill=\"#000000\">value = [1.0, 0.0]</text>\n<text text-anchor=\"middle\" x=\"64\" y=\"-104.3\" font-family=\"Helvetica,sans-Serif\" font-size=\"14.00\" fill=\"#000000\">class = NotPurch</text>\n</g>\n<!-- 4&#45;&gt;5 -->\n<g id=\"edge5\" class=\"edge\">\n<title>4&#45;&gt;5</title>\n<path fill=\"none\" stroke=\"#000000\" d=\"M186.4064,-192.9465C164.8172,-180.6098 140.5399,-166.7371 119.3328,-154.6187\"/>\n<polygon fill=\"#000000\" stroke=\"#000000\" points=\"120.8677,-151.4647 110.4488,-149.5422 117.3947,-157.5425 120.8677,-151.4647\"/>\n</g>\n<!-- 6 -->\n<g id=\"node7\" class=\"node\">\n<title>6</title>\n<path fill=\"#eda673\" stroke=\"#000000\" d=\"M334,-157C334,-157 158,-157 158,-157 152,-157 146,-151 146,-145 146,-145 146,-101 146,-101 146,-95 152,-89 158,-89 158,-89 334,-89 334,-89 340,-89 346,-95 346,-101 346,-101 346,-145 346,-145 346,-151 340,-157 334,-157\"/>\n<text text-anchor=\"middle\" x=\"246\" y=\"-141.8\" font-family=\"Helvetica,sans-Serif\" font-size=\"14.00\" fill=\"#000000\">EstimatedSalary &lt;= 83500.0</text>\n<text text-anchor=\"middle\" x=\"246\" y=\"-126.8\" font-family=\"Helvetica,sans-Serif\" font-size=\"14.00\" fill=\"#000000\">samples = 10.3%</text>\n<text text-anchor=\"middle\" x=\"246\" y=\"-111.8\" font-family=\"Helvetica,sans-Serif\" font-size=\"14.00\" fill=\"#000000\">value = [0.774, 0.226]</text>\n<text text-anchor=\"middle\" x=\"246\" y=\"-96.8\" font-family=\"Helvetica,sans-Serif\" font-size=\"14.00\" fill=\"#000000\">class = NotPurch</text>\n</g>\n<!-- 4&#45;&gt;6 -->\n<g id=\"edge6\" class=\"edge\">\n<title>4&#45;&gt;6</title>\n<path fill=\"none\" stroke=\"#000000\" d=\"M246,-192.9465C246,-184.776 246,-175.9318 246,-167.3697\"/>\n<polygon fill=\"#000000\" stroke=\"#000000\" points=\"249.5001,-167.13 246,-157.13 242.5001,-167.13 249.5001,-167.13\"/>\n</g>\n<!-- 7 -->\n<g id=\"node8\" class=\"node\">\n<title>7</title>\n<path fill=\"#ea9b62\" stroke=\"#000000\" d=\"M165,-53C165,-53 33,-53 33,-53 27,-53 21,-47 21,-41 21,-41 21,-12 21,-12 21,-6 27,0 33,0 33,0 165,0 165,0 171,0 177,-6 177,-12 177,-12 177,-41 177,-41 177,-47 171,-53 165,-53\"/>\n<text text-anchor=\"middle\" x=\"99\" y=\"-37.8\" font-family=\"Helvetica,sans-Serif\" font-size=\"14.00\" fill=\"#000000\">samples = 9.7%</text>\n<text text-anchor=\"middle\" x=\"99\" y=\"-22.8\" font-family=\"Helvetica,sans-Serif\" font-size=\"14.00\" fill=\"#000000\">value = [0.828, 0.172]</text>\n<text text-anchor=\"middle\" x=\"99\" y=\"-7.8\" font-family=\"Helvetica,sans-Serif\" font-size=\"14.00\" fill=\"#000000\">class = NotPurch</text>\n</g>\n<!-- 6&#45;&gt;7 -->\n<g id=\"edge7\" class=\"edge\">\n<title>6&#45;&gt;7</title>\n<path fill=\"none\" stroke=\"#000000\" d=\"M194.1733,-88.9777C179.2479,-79.1798 163.013,-68.5222 148.2486,-58.8298\"/>\n<polygon fill=\"#000000\" stroke=\"#000000\" points=\"150.0268,-55.8104 139.7464,-53.2485 146.1853,-61.6622 150.0268,-55.8104\"/>\n</g>\n<!-- 8 -->\n<g id=\"node9\" class=\"node\">\n<title>8</title>\n<path fill=\"#399de5\" stroke=\"#000000\" d=\"M320.5,-53C320.5,-53 207.5,-53 207.5,-53 201.5,-53 195.5,-47 195.5,-41 195.5,-41 195.5,-12 195.5,-12 195.5,-6 201.5,0 207.5,0 207.5,0 320.5,0 320.5,0 326.5,0 332.5,-6 332.5,-12 332.5,-12 332.5,-41 332.5,-41 332.5,-47 326.5,-53 320.5,-53\"/>\n<text text-anchor=\"middle\" x=\"264\" y=\"-37.8\" font-family=\"Helvetica,sans-Serif\" font-size=\"14.00\" fill=\"#000000\">samples = 0.7%</text>\n<text text-anchor=\"middle\" x=\"264\" y=\"-22.8\" font-family=\"Helvetica,sans-Serif\" font-size=\"14.00\" fill=\"#000000\">value = [0.0, 1.0]</text>\n<text text-anchor=\"middle\" x=\"264\" y=\"-7.8\" font-family=\"Helvetica,sans-Serif\" font-size=\"14.00\" fill=\"#000000\">class = Purchased</text>\n</g>\n<!-- 6&#45;&gt;8 -->\n<g id=\"edge8\" class=\"edge\">\n<title>6&#45;&gt;8</title>\n<path fill=\"none\" stroke=\"#000000\" d=\"M252.3461,-88.9777C253.9004,-80.6449 255.5707,-71.6903 257.1476,-63.2364\"/>\n<polygon fill=\"#000000\" stroke=\"#000000\" points=\"260.6176,-63.7207 259.0106,-53.2485 253.7363,-62.4371 260.6176,-63.7207\"/>\n</g>\n<!-- 10 -->\n<g id=\"node11\" class=\"node\">\n<title>10</title>\n<path fill=\"#74baed\" stroke=\"#000000\" d=\"M579,-261C579,-261 395,-261 395,-261 389,-261 383,-255 383,-249 383,-249 383,-205 383,-205 383,-199 389,-193 395,-193 395,-193 579,-193 579,-193 585,-193 591,-199 591,-205 591,-205 591,-249 591,-249 591,-255 585,-261 579,-261\"/>\n<text text-anchor=\"middle\" x=\"487\" y=\"-245.8\" font-family=\"Helvetica,sans-Serif\" font-size=\"14.00\" fill=\"#000000\">EstimatedSalary &lt;= 107500.0</text>\n<text text-anchor=\"middle\" x=\"487\" y=\"-230.8\" font-family=\"Helvetica,sans-Serif\" font-size=\"14.00\" fill=\"#000000\">samples = 8.7%</text>\n<text text-anchor=\"middle\" x=\"487\" y=\"-215.8\" font-family=\"Helvetica,sans-Serif\" font-size=\"14.00\" fill=\"#000000\">value = [0.231, 0.769]</text>\n<text text-anchor=\"middle\" x=\"487\" y=\"-200.8\" font-family=\"Helvetica,sans-Serif\" font-size=\"14.00\" fill=\"#000000\">class = Purchased</text>\n</g>\n<!-- 9&#45;&gt;10 -->\n<g id=\"edge10\" class=\"edge\">\n<title>9&#45;&gt;10</title>\n<path fill=\"none\" stroke=\"#000000\" d=\"M536.7696,-296.9465C530.5088,-288.1475 523.692,-278.5672 517.1687,-269.3993\"/>\n<polygon fill=\"#000000\" stroke=\"#000000\" points=\"519.9342,-267.2488 511.2848,-261.13 514.2306,-271.3071 519.9342,-267.2488\"/>\n</g>\n<!-- 15 -->\n<g id=\"node16\" class=\"node\">\n<title>15</title>\n<path fill=\"#399de5\" stroke=\"#000000\" d=\"M734.5,-253.5C734.5,-253.5 621.5,-253.5 621.5,-253.5 615.5,-253.5 609.5,-247.5 609.5,-241.5 609.5,-241.5 609.5,-212.5 609.5,-212.5 609.5,-206.5 615.5,-200.5 621.5,-200.5 621.5,-200.5 734.5,-200.5 734.5,-200.5 740.5,-200.5 746.5,-206.5 746.5,-212.5 746.5,-212.5 746.5,-241.5 746.5,-241.5 746.5,-247.5 740.5,-253.5 734.5,-253.5\"/>\n<text text-anchor=\"middle\" x=\"678\" y=\"-238.3\" font-family=\"Helvetica,sans-Serif\" font-size=\"14.00\" fill=\"#000000\">samples = 4.3%</text>\n<text text-anchor=\"middle\" x=\"678\" y=\"-223.3\" font-family=\"Helvetica,sans-Serif\" font-size=\"14.00\" fill=\"#000000\">value = [0.0, 1.0]</text>\n<text text-anchor=\"middle\" x=\"678\" y=\"-208.3\" font-family=\"Helvetica,sans-Serif\" font-size=\"14.00\" fill=\"#000000\">class = Purchased</text>\n</g>\n<!-- 9&#45;&gt;15 -->\n<g id=\"edge15\" class=\"edge\">\n<title>9&#45;&gt;15</title>\n<path fill=\"none\" stroke=\"#000000\" d=\"M599.3102,-296.9465C612.5694,-285.1606 627.4058,-271.9726 640.5916,-260.2519\"/>\n<polygon fill=\"#000000\" stroke=\"#000000\" points=\"642.9912,-262.8018 648.1401,-253.5422 638.3407,-257.5699 642.9912,-262.8018\"/>\n</g>\n<!-- 11 -->\n<g id=\"node12\" class=\"node\">\n<title>11</title>\n<path fill=\"#399de5\" stroke=\"#000000\" d=\"M489.5,-149.5C489.5,-149.5 376.5,-149.5 376.5,-149.5 370.5,-149.5 364.5,-143.5 364.5,-137.5 364.5,-137.5 364.5,-108.5 364.5,-108.5 364.5,-102.5 370.5,-96.5 376.5,-96.5 376.5,-96.5 489.5,-96.5 489.5,-96.5 495.5,-96.5 501.5,-102.5 501.5,-108.5 501.5,-108.5 501.5,-137.5 501.5,-137.5 501.5,-143.5 495.5,-149.5 489.5,-149.5\"/>\n<text text-anchor=\"middle\" x=\"433\" y=\"-134.3\" font-family=\"Helvetica,sans-Serif\" font-size=\"14.00\" fill=\"#000000\">samples = 2.7%</text>\n<text text-anchor=\"middle\" x=\"433\" y=\"-119.3\" font-family=\"Helvetica,sans-Serif\" font-size=\"14.00\" fill=\"#000000\">value = [0.0, 1.0]</text>\n<text text-anchor=\"middle\" x=\"433\" y=\"-104.3\" font-family=\"Helvetica,sans-Serif\" font-size=\"14.00\" fill=\"#000000\">class = Purchased</text>\n</g>\n<!-- 10&#45;&gt;11 -->\n<g id=\"edge11\" class=\"edge\">\n<title>10&#45;&gt;11</title>\n<path fill=\"none\" stroke=\"#000000\" d=\"M469.3184,-192.9465C463.5991,-181.9316 457.244,-169.6922 451.4692,-158.5703\"/>\n<polygon fill=\"#000000\" stroke=\"#000000\" points=\"454.496,-156.8043 446.7815,-149.5422 448.2835,-160.03 454.496,-156.8043\"/>\n</g>\n<!-- 12 -->\n<g id=\"node13\" class=\"node\">\n<title>12</title>\n<path fill=\"#9ccef2\" stroke=\"#000000\" d=\"M674.5,-157C674.5,-157 531.5,-157 531.5,-157 525.5,-157 519.5,-151 519.5,-145 519.5,-145 519.5,-101 519.5,-101 519.5,-95 525.5,-89 531.5,-89 531.5,-89 674.5,-89 674.5,-89 680.5,-89 686.5,-95 686.5,-101 686.5,-101 686.5,-145 686.5,-145 686.5,-151 680.5,-157 674.5,-157\"/>\n<text text-anchor=\"middle\" x=\"603\" y=\"-141.8\" font-family=\"Helvetica,sans-Serif\" font-size=\"14.00\" fill=\"#000000\">User ID &lt;= 15608084.0</text>\n<text text-anchor=\"middle\" x=\"603\" y=\"-126.8\" font-family=\"Helvetica,sans-Serif\" font-size=\"14.00\" fill=\"#000000\">samples = 6.0%</text>\n<text text-anchor=\"middle\" x=\"603\" y=\"-111.8\" font-family=\"Helvetica,sans-Serif\" font-size=\"14.00\" fill=\"#000000\">value = [0.333, 0.667]</text>\n<text text-anchor=\"middle\" x=\"603\" y=\"-96.8\" font-family=\"Helvetica,sans-Serif\" font-size=\"14.00\" fill=\"#000000\">class = Purchased</text>\n</g>\n<!-- 10&#45;&gt;12 -->\n<g id=\"edge12\" class=\"edge\">\n<title>10&#45;&gt;12</title>\n<path fill=\"none\" stroke=\"#000000\" d=\"M524.9827,-192.9465C535.2977,-183.6986 546.5754,-173.5876 557.2699,-163.9994\"/>\n<polygon fill=\"#000000\" stroke=\"#000000\" points=\"559.8226,-166.4115 564.9319,-157.13 555.1498,-161.1995 559.8226,-166.4115\"/>\n</g>\n<!-- 13 -->\n<g id=\"node14\" class=\"node\">\n<title>13</title>\n<path fill=\"#399de5\" stroke=\"#000000\" d=\"M567.5,-53C567.5,-53 454.5,-53 454.5,-53 448.5,-53 442.5,-47 442.5,-41 442.5,-41 442.5,-12 442.5,-12 442.5,-6 448.5,0 454.5,0 454.5,0 567.5,0 567.5,0 573.5,0 579.5,-6 579.5,-12 579.5,-12 579.5,-41 579.5,-41 579.5,-47 573.5,-53 567.5,-53\"/>\n<text text-anchor=\"middle\" x=\"511\" y=\"-37.8\" font-family=\"Helvetica,sans-Serif\" font-size=\"14.00\" fill=\"#000000\">samples = 1.3%</text>\n<text text-anchor=\"middle\" x=\"511\" y=\"-22.8\" font-family=\"Helvetica,sans-Serif\" font-size=\"14.00\" fill=\"#000000\">value = [0.0, 1.0]</text>\n<text text-anchor=\"middle\" x=\"511\" y=\"-7.8\" font-family=\"Helvetica,sans-Serif\" font-size=\"14.00\" fill=\"#000000\">class = Purchased</text>\n</g>\n<!-- 12&#45;&gt;13 -->\n<g id=\"edge13\" class=\"edge\">\n<title>12&#45;&gt;13</title>\n<path fill=\"none\" stroke=\"#000000\" d=\"M570.5642,-88.9777C561.8343,-79.8207 552.3885,-69.9129 543.6471,-60.744\"/>\n<polygon fill=\"#000000\" stroke=\"#000000\" points=\"545.9347,-58.0712 536.5011,-53.2485 540.8682,-62.9014 545.9347,-58.0712\"/>\n</g>\n<!-- 14 -->\n<g id=\"node15\" class=\"node\">\n<title>14</title>\n<path fill=\"#cee6f8\" stroke=\"#000000\" d=\"M742,-53C742,-53 610,-53 610,-53 604,-53 598,-47 598,-41 598,-41 598,-12 598,-12 598,-6 604,0 610,0 610,0 742,0 742,0 748,0 754,-6 754,-12 754,-12 754,-41 754,-41 754,-47 748,-53 742,-53\"/>\n<text text-anchor=\"middle\" x=\"676\" y=\"-37.8\" font-family=\"Helvetica,sans-Serif\" font-size=\"14.00\" fill=\"#000000\">samples = 4.7%</text>\n<text text-anchor=\"middle\" x=\"676\" y=\"-22.8\" font-family=\"Helvetica,sans-Serif\" font-size=\"14.00\" fill=\"#000000\">value = [0.429, 0.571]</text>\n<text text-anchor=\"middle\" x=\"676\" y=\"-7.8\" font-family=\"Helvetica,sans-Serif\" font-size=\"14.00\" fill=\"#000000\">class = Purchased</text>\n</g>\n<!-- 12&#45;&gt;14 -->\n<g id=\"edge14\" class=\"edge\">\n<title>12&#45;&gt;14</title>\n<path fill=\"none\" stroke=\"#000000\" d=\"M628.7371,-88.9777C635.5256,-80.0039 642.8596,-70.3089 649.6784,-61.295\"/>\n<polygon fill=\"#000000\" stroke=\"#000000\" points=\"652.5237,-63.3352 655.7654,-53.2485 646.941,-59.1121 652.5237,-63.3352\"/>\n</g>\n<!-- 17 -->\n<g id=\"node18\" class=\"node\">\n<title>17</title>\n<path fill=\"#40a0e6\" stroke=\"#000000\" d=\"M1031,-365C1031,-365 855,-365 855,-365 849,-365 843,-359 843,-353 843,-353 843,-309 843,-309 843,-303 849,-297 855,-297 855,-297 1031,-297 1031,-297 1037,-297 1043,-303 1043,-309 1043,-309 1043,-353 1043,-353 1043,-359 1037,-365 1031,-365\"/>\n<text text-anchor=\"middle\" x=\"943\" y=\"-349.8\" font-family=\"Helvetica,sans-Serif\" font-size=\"14.00\" fill=\"#000000\">EstimatedSalary &lt;= 22500.0</text>\n<text text-anchor=\"middle\" x=\"943\" y=\"-334.8\" font-family=\"Helvetica,sans-Serif\" font-size=\"14.00\" fill=\"#000000\">samples = 10.0%</text>\n<text text-anchor=\"middle\" x=\"943\" y=\"-319.8\" font-family=\"Helvetica,sans-Serif\" font-size=\"14.00\" fill=\"#000000\">value = [0.033, 0.967]</text>\n<text text-anchor=\"middle\" x=\"943\" y=\"-304.8\" font-family=\"Helvetica,sans-Serif\" font-size=\"14.00\" fill=\"#000000\">class = Purchased</text>\n</g>\n<!-- 16&#45;&gt;17 -->\n<g id=\"edge17\" class=\"edge\">\n<title>16&#45;&gt;17</title>\n<path fill=\"none\" stroke=\"#000000\" d=\"M943,-400.9465C943,-392.776 943,-383.9318 943,-375.3697\"/>\n<polygon fill=\"#000000\" stroke=\"#000000\" points=\"946.5001,-375.13 943,-365.13 939.5001,-375.13 946.5001,-375.13\"/>\n</g>\n<!-- 22 -->\n<g id=\"node23\" class=\"node\">\n<title>22</title>\n<path fill=\"#76bbed\" stroke=\"#000000\" d=\"M1291,-365C1291,-365 1159,-365 1159,-365 1153,-365 1147,-359 1147,-353 1147,-353 1147,-309 1147,-309 1147,-303 1153,-297 1159,-297 1159,-297 1291,-297 1291,-297 1297,-297 1303,-303 1303,-309 1303,-309 1303,-353 1303,-353 1303,-359 1297,-365 1291,-365\"/>\n<text text-anchor=\"middle\" x=\"1225\" y=\"-349.8\" font-family=\"Helvetica,sans-Serif\" font-size=\"14.00\" fill=\"#000000\">Age &lt;= 52.5</text>\n<text text-anchor=\"middle\" x=\"1225\" y=\"-334.8\" font-family=\"Helvetica,sans-Serif\" font-size=\"14.00\" fill=\"#000000\">samples = 18.3%</text>\n<text text-anchor=\"middle\" x=\"1225\" y=\"-319.8\" font-family=\"Helvetica,sans-Serif\" font-size=\"14.00\" fill=\"#000000\">value = [0.236, 0.764]</text>\n<text text-anchor=\"middle\" x=\"1225\" y=\"-304.8\" font-family=\"Helvetica,sans-Serif\" font-size=\"14.00\" fill=\"#000000\">class = Purchased</text>\n</g>\n<!-- 16&#45;&gt;22 -->\n<g id=\"edge22\" class=\"edge\">\n<title>16&#45;&gt;22</title>\n<path fill=\"none\" stroke=\"#000000\" d=\"M1035.3373,-400.9465C1068.086,-388.869 1104.8266,-375.3193 1137.1874,-363.3848\"/>\n<polygon fill=\"#000000\" stroke=\"#000000\" points=\"1138.4634,-366.6447 1146.6346,-359.9007 1136.0412,-360.0771 1138.4634,-366.6447\"/>\n</g>\n<!-- 18 -->\n<g id=\"node19\" class=\"node\">\n<title>18</title>\n<path fill=\"#6ab6ec\" stroke=\"#000000\" d=\"M929.5,-261C929.5,-261 786.5,-261 786.5,-261 780.5,-261 774.5,-255 774.5,-249 774.5,-249 774.5,-205 774.5,-205 774.5,-199 780.5,-193 786.5,-193 786.5,-193 929.5,-193 929.5,-193 935.5,-193 941.5,-199 941.5,-205 941.5,-205 941.5,-249 941.5,-249 941.5,-255 935.5,-261 929.5,-261\"/>\n<text text-anchor=\"middle\" x=\"858\" y=\"-245.8\" font-family=\"Helvetica,sans-Serif\" font-size=\"14.00\" fill=\"#000000\">User ID &lt;= 15680336.5</text>\n<text text-anchor=\"middle\" x=\"858\" y=\"-230.8\" font-family=\"Helvetica,sans-Serif\" font-size=\"14.00\" fill=\"#000000\">samples = 1.7%</text>\n<text text-anchor=\"middle\" x=\"858\" y=\"-215.8\" font-family=\"Helvetica,sans-Serif\" font-size=\"14.00\" fill=\"#000000\">value = [0.2, 0.8]</text>\n<text text-anchor=\"middle\" x=\"858\" y=\"-200.8\" font-family=\"Helvetica,sans-Serif\" font-size=\"14.00\" fill=\"#000000\">class = Purchased</text>\n</g>\n<!-- 17&#45;&gt;18 -->\n<g id=\"edge18\" class=\"edge\">\n<title>17&#45;&gt;18</title>\n<path fill=\"none\" stroke=\"#000000\" d=\"M915.1678,-296.9465C907.903,-288.0578 899.9864,-278.3716 892.424,-269.1188\"/>\n<polygon fill=\"#000000\" stroke=\"#000000\" points=\"894.9331,-266.658 885.8947,-261.13 889.513,-271.0878 894.9331,-266.658\"/>\n</g>\n<!-- 21 -->\n<g id=\"node22\" class=\"node\">\n<title>21</title>\n<path fill=\"#399de5\" stroke=\"#000000\" d=\"M1084.5,-253.5C1084.5,-253.5 971.5,-253.5 971.5,-253.5 965.5,-253.5 959.5,-247.5 959.5,-241.5 959.5,-241.5 959.5,-212.5 959.5,-212.5 959.5,-206.5 965.5,-200.5 971.5,-200.5 971.5,-200.5 1084.5,-200.5 1084.5,-200.5 1090.5,-200.5 1096.5,-206.5 1096.5,-212.5 1096.5,-212.5 1096.5,-241.5 1096.5,-241.5 1096.5,-247.5 1090.5,-253.5 1084.5,-253.5\"/>\n<text text-anchor=\"middle\" x=\"1028\" y=\"-238.3\" font-family=\"Helvetica,sans-Serif\" font-size=\"14.00\" fill=\"#000000\">samples = 8.3%</text>\n<text text-anchor=\"middle\" x=\"1028\" y=\"-223.3\" font-family=\"Helvetica,sans-Serif\" font-size=\"14.00\" fill=\"#000000\">value = [0.0, 1.0]</text>\n<text text-anchor=\"middle\" x=\"1028\" y=\"-208.3\" font-family=\"Helvetica,sans-Serif\" font-size=\"14.00\" fill=\"#000000\">class = Purchased</text>\n</g>\n<!-- 17&#45;&gt;21 -->\n<g id=\"edge21\" class=\"edge\">\n<title>17&#45;&gt;21</title>\n<path fill=\"none\" stroke=\"#000000\" d=\"M970.8322,-296.9465C980.1048,-285.6012 990.4392,-272.9567 999.7437,-261.5724\"/>\n<polygon fill=\"#000000\" stroke=\"#000000\" points=\"1002.6885,-263.5 1006.3069,-253.5422 997.2685,-259.0701 1002.6885,-263.5\"/>\n</g>\n<!-- 19 -->\n<g id=\"node20\" class=\"node\">\n<title>19</title>\n<path fill=\"#399de5\" stroke=\"#000000\" d=\"M829.5,-149.5C829.5,-149.5 716.5,-149.5 716.5,-149.5 710.5,-149.5 704.5,-143.5 704.5,-137.5 704.5,-137.5 704.5,-108.5 704.5,-108.5 704.5,-102.5 710.5,-96.5 716.5,-96.5 716.5,-96.5 829.5,-96.5 829.5,-96.5 835.5,-96.5 841.5,-102.5 841.5,-108.5 841.5,-108.5 841.5,-137.5 841.5,-137.5 841.5,-143.5 835.5,-149.5 829.5,-149.5\"/>\n<text text-anchor=\"middle\" x=\"773\" y=\"-134.3\" font-family=\"Helvetica,sans-Serif\" font-size=\"14.00\" fill=\"#000000\">samples = 1.3%</text>\n<text text-anchor=\"middle\" x=\"773\" y=\"-119.3\" font-family=\"Helvetica,sans-Serif\" font-size=\"14.00\" fill=\"#000000\">value = [0.0, 1.0]</text>\n<text text-anchor=\"middle\" x=\"773\" y=\"-104.3\" font-family=\"Helvetica,sans-Serif\" font-size=\"14.00\" fill=\"#000000\">class = Purchased</text>\n</g>\n<!-- 18&#45;&gt;19 -->\n<g id=\"edge19\" class=\"edge\">\n<title>18&#45;&gt;19</title>\n<path fill=\"none\" stroke=\"#000000\" d=\"M830.1678,-192.9465C820.8952,-181.6012 810.5608,-168.9567 801.2563,-157.5724\"/>\n<polygon fill=\"#000000\" stroke=\"#000000\" points=\"803.7315,-155.0701 794.6931,-149.5422 798.3115,-159.5 803.7315,-155.0701\"/>\n</g>\n<!-- 20 -->\n<g id=\"node21\" class=\"node\">\n<title>20</title>\n<path fill=\"#e58139\" stroke=\"#000000\" d=\"M974.5,-149.5C974.5,-149.5 871.5,-149.5 871.5,-149.5 865.5,-149.5 859.5,-143.5 859.5,-137.5 859.5,-137.5 859.5,-108.5 859.5,-108.5 859.5,-102.5 865.5,-96.5 871.5,-96.5 871.5,-96.5 974.5,-96.5 974.5,-96.5 980.5,-96.5 986.5,-102.5 986.5,-108.5 986.5,-108.5 986.5,-137.5 986.5,-137.5 986.5,-143.5 980.5,-149.5 974.5,-149.5\"/>\n<text text-anchor=\"middle\" x=\"923\" y=\"-134.3\" font-family=\"Helvetica,sans-Serif\" font-size=\"14.00\" fill=\"#000000\">samples = 0.3%</text>\n<text text-anchor=\"middle\" x=\"923\" y=\"-119.3\" font-family=\"Helvetica,sans-Serif\" font-size=\"14.00\" fill=\"#000000\">value = [1.0, 0.0]</text>\n<text text-anchor=\"middle\" x=\"923\" y=\"-104.3\" font-family=\"Helvetica,sans-Serif\" font-size=\"14.00\" fill=\"#000000\">class = NotPurch</text>\n</g>\n<!-- 18&#45;&gt;20 -->\n<g id=\"edge20\" class=\"edge\">\n<title>18&#45;&gt;20</title>\n<path fill=\"none\" stroke=\"#000000\" d=\"M879.2834,-192.9465C886.2366,-181.8215 893.9705,-169.4473 900.9769,-158.237\"/>\n<polygon fill=\"#000000\" stroke=\"#000000\" points=\"904.0791,-159.8772 906.4111,-149.5422 898.1431,-156.1671 904.0791,-159.8772\"/>\n</g>\n<!-- 23 -->\n<g id=\"node24\" class=\"node\">\n<title>23</title>\n<path fill=\"#aad5f4\" stroke=\"#000000\" d=\"M1313,-261C1313,-261 1137,-261 1137,-261 1131,-261 1125,-255 1125,-249 1125,-249 1125,-205 1125,-205 1125,-199 1131,-193 1137,-193 1137,-193 1313,-193 1313,-193 1319,-193 1325,-199 1325,-205 1325,-205 1325,-249 1325,-249 1325,-255 1319,-261 1313,-261\"/>\n<text text-anchor=\"middle\" x=\"1225\" y=\"-245.8\" font-family=\"Helvetica,sans-Serif\" font-size=\"14.00\" fill=\"#000000\">EstimatedSalary &lt;= 85000.0</text>\n<text text-anchor=\"middle\" x=\"1225\" y=\"-230.8\" font-family=\"Helvetica,sans-Serif\" font-size=\"14.00\" fill=\"#000000\">samples = 11.0%</text>\n<text text-anchor=\"middle\" x=\"1225\" y=\"-215.8\" font-family=\"Helvetica,sans-Serif\" font-size=\"14.00\" fill=\"#000000\">value = [0.364, 0.636]</text>\n<text text-anchor=\"middle\" x=\"1225\" y=\"-200.8\" font-family=\"Helvetica,sans-Serif\" font-size=\"14.00\" fill=\"#000000\">class = Purchased</text>\n</g>\n<!-- 22&#45;&gt;23 -->\n<g id=\"edge23\" class=\"edge\">\n<title>22&#45;&gt;23</title>\n<path fill=\"none\" stroke=\"#000000\" d=\"M1225,-296.9465C1225,-288.776 1225,-279.9318 1225,-271.3697\"/>\n<polygon fill=\"#000000\" stroke=\"#000000\" points=\"1228.5001,-271.13 1225,-261.13 1221.5001,-271.13 1228.5001,-271.13\"/>\n</g>\n<!-- 30 -->\n<g id=\"node31\" class=\"node\">\n<title>30</title>\n<path fill=\"#42a2e6\" stroke=\"#000000\" d=\"M1641,-261C1641,-261 1465,-261 1465,-261 1459,-261 1453,-255 1453,-249 1453,-249 1453,-205 1453,-205 1453,-199 1459,-193 1465,-193 1465,-193 1641,-193 1641,-193 1647,-193 1653,-199 1653,-205 1653,-205 1653,-249 1653,-249 1653,-255 1647,-261 1641,-261\"/>\n<text text-anchor=\"middle\" x=\"1553\" y=\"-245.8\" font-family=\"Helvetica,sans-Serif\" font-size=\"14.00\" fill=\"#000000\">EstimatedSalary &lt;= 44000.0</text>\n<text text-anchor=\"middle\" x=\"1553\" y=\"-230.8\" font-family=\"Helvetica,sans-Serif\" font-size=\"14.00\" fill=\"#000000\">samples = 7.3%</text>\n<text text-anchor=\"middle\" x=\"1553\" y=\"-215.8\" font-family=\"Helvetica,sans-Serif\" font-size=\"14.00\" fill=\"#000000\">value = [0.045, 0.955]</text>\n<text text-anchor=\"middle\" x=\"1553\" y=\"-200.8\" font-family=\"Helvetica,sans-Serif\" font-size=\"14.00\" fill=\"#000000\">class = Purchased</text>\n</g>\n<!-- 22&#45;&gt;30 -->\n<g id=\"edge30\" class=\"edge\">\n<title>22&#45;&gt;30</title>\n<path fill=\"none\" stroke=\"#000000\" d=\"M1303.1475,-306.2215C1344.9845,-292.9561 1397.2025,-276.3992 1443.0677,-261.8566\"/>\n<polygon fill=\"#000000\" stroke=\"#000000\" points=\"1444.278,-265.1446 1452.7524,-258.7858 1442.1622,-258.472 1444.278,-265.1446\"/>\n</g>\n<!-- 24 -->\n<g id=\"node25\" class=\"node\">\n<title>24</title>\n<path fill=\"#f8e0ce\" stroke=\"#000000\" d=\"M1149,-157C1149,-157 1017,-157 1017,-157 1011,-157 1005,-151 1005,-145 1005,-145 1005,-101 1005,-101 1005,-95 1011,-89 1017,-89 1017,-89 1149,-89 1149,-89 1155,-89 1161,-95 1161,-101 1161,-101 1161,-145 1161,-145 1161,-151 1155,-157 1149,-157\"/>\n<text text-anchor=\"middle\" x=\"1083\" y=\"-141.8\" font-family=\"Helvetica,sans-Serif\" font-size=\"14.00\" fill=\"#000000\">Age &lt;= 48.5</text>\n<text text-anchor=\"middle\" x=\"1083\" y=\"-126.8\" font-family=\"Helvetica,sans-Serif\" font-size=\"14.00\" fill=\"#000000\">samples = 4.7%</text>\n<text text-anchor=\"middle\" x=\"1083\" y=\"-111.8\" font-family=\"Helvetica,sans-Serif\" font-size=\"14.00\" fill=\"#000000\">value = [0.571, 0.429]</text>\n<text text-anchor=\"middle\" x=\"1083\" y=\"-96.8\" font-family=\"Helvetica,sans-Serif\" font-size=\"14.00\" fill=\"#000000\">class = NotPurch</text>\n</g>\n<!-- 23&#45;&gt;24 -->\n<g id=\"edge24\" class=\"edge\">\n<title>23&#45;&gt;24</title>\n<path fill=\"none\" stroke=\"#000000\" d=\"M1178.5039,-192.9465C1165.5092,-183.4293 1151.2663,-172.9978 1137.8379,-163.163\"/>\n<polygon fill=\"#000000\" stroke=\"#000000\" points=\"1139.7363,-160.2151 1129.6006,-157.13 1135.6002,-165.8624 1139.7363,-160.2151\"/>\n</g>\n<!-- 27 -->\n<g id=\"node28\" class=\"node\">\n<title>27</title>\n<path fill=\"#6eb7ec\" stroke=\"#000000\" d=\"M1334.5,-157C1334.5,-157 1191.5,-157 1191.5,-157 1185.5,-157 1179.5,-151 1179.5,-145 1179.5,-145 1179.5,-101 1179.5,-101 1179.5,-95 1185.5,-89 1191.5,-89 1191.5,-89 1334.5,-89 1334.5,-89 1340.5,-89 1346.5,-95 1346.5,-101 1346.5,-101 1346.5,-145 1346.5,-145 1346.5,-151 1340.5,-157 1334.5,-157\"/>\n<text text-anchor=\"middle\" x=\"1263\" y=\"-141.8\" font-family=\"Helvetica,sans-Serif\" font-size=\"14.00\" fill=\"#000000\">User ID &lt;= 15668962.0</text>\n<text text-anchor=\"middle\" x=\"1263\" y=\"-126.8\" font-family=\"Helvetica,sans-Serif\" font-size=\"14.00\" fill=\"#000000\">samples = 6.3%</text>\n<text text-anchor=\"middle\" x=\"1263\" y=\"-111.8\" font-family=\"Helvetica,sans-Serif\" font-size=\"14.00\" fill=\"#000000\">value = [0.211, 0.789]</text>\n<text text-anchor=\"middle\" x=\"1263\" y=\"-96.8\" font-family=\"Helvetica,sans-Serif\" font-size=\"14.00\" fill=\"#000000\">class = Purchased</text>\n</g>\n<!-- 23&#45;&gt;27 -->\n<g id=\"edge27\" class=\"edge\">\n<title>23&#45;&gt;27</title>\n<path fill=\"none\" stroke=\"#000000\" d=\"M1237.4426,-192.9465C1240.5264,-184.5067 1243.8729,-175.3479 1247.097,-166.5239\"/>\n<polygon fill=\"#000000\" stroke=\"#000000\" points=\"1250.3849,-167.7238 1250.5294,-157.13 1243.81,-165.3215 1250.3849,-167.7238\"/>\n</g>\n<!-- 25 -->\n<g id=\"node26\" class=\"node\">\n<title>25</title>\n<path fill=\"#deeffb\" stroke=\"#000000\" d=\"M989,-53C989,-53 857,-53 857,-53 851,-53 845,-47 845,-41 845,-41 845,-12 845,-12 845,-6 851,0 857,0 857,0 989,0 989,0 995,0 1001,-6 1001,-12 1001,-12 1001,-41 1001,-41 1001,-47 995,-53 989,-53\"/>\n<text text-anchor=\"middle\" x=\"923\" y=\"-37.8\" font-family=\"Helvetica,sans-Serif\" font-size=\"14.00\" fill=\"#000000\">samples = 3.7%</text>\n<text text-anchor=\"middle\" x=\"923\" y=\"-22.8\" font-family=\"Helvetica,sans-Serif\" font-size=\"14.00\" fill=\"#000000\">value = [0.455, 0.545]</text>\n<text text-anchor=\"middle\" x=\"923\" y=\"-7.8\" font-family=\"Helvetica,sans-Serif\" font-size=\"14.00\" fill=\"#000000\">class = Purchased</text>\n</g>\n<!-- 24&#45;&gt;25 -->\n<g id=\"edge25\" class=\"edge\">\n<title>24&#45;&gt;25</title>\n<path fill=\"none\" stroke=\"#000000\" d=\"M1026.59,-88.9777C1010.1169,-79.0424 992.1783,-68.2232 975.929,-58.4228\"/>\n<polygon fill=\"#000000\" stroke=\"#000000\" points=\"977.4661,-55.2626 967.0954,-53.095 973.8509,-61.2568 977.4661,-55.2626\"/>\n</g>\n<!-- 26 -->\n<g id=\"node27\" class=\"node\">\n<title>26</title>\n<path fill=\"#e58139\" stroke=\"#000000\" d=\"M1134.5,-53C1134.5,-53 1031.5,-53 1031.5,-53 1025.5,-53 1019.5,-47 1019.5,-41 1019.5,-41 1019.5,-12 1019.5,-12 1019.5,-6 1025.5,0 1031.5,0 1031.5,0 1134.5,0 1134.5,0 1140.5,0 1146.5,-6 1146.5,-12 1146.5,-12 1146.5,-41 1146.5,-41 1146.5,-47 1140.5,-53 1134.5,-53\"/>\n<text text-anchor=\"middle\" x=\"1083\" y=\"-37.8\" font-family=\"Helvetica,sans-Serif\" font-size=\"14.00\" fill=\"#000000\">samples = 1.0%</text>\n<text text-anchor=\"middle\" x=\"1083\" y=\"-22.8\" font-family=\"Helvetica,sans-Serif\" font-size=\"14.00\" fill=\"#000000\">value = [1.0, 0.0]</text>\n<text text-anchor=\"middle\" x=\"1083\" y=\"-7.8\" font-family=\"Helvetica,sans-Serif\" font-size=\"14.00\" fill=\"#000000\">class = NotPurch</text>\n</g>\n<!-- 24&#45;&gt;26 -->\n<g id=\"edge26\" class=\"edge\">\n<title>24&#45;&gt;26</title>\n<path fill=\"none\" stroke=\"#000000\" d=\"M1083,-88.9777C1083,-80.7364 1083,-71.887 1083,-63.5153\"/>\n<polygon fill=\"#000000\" stroke=\"#000000\" points=\"1086.5001,-63.2484 1083,-53.2485 1079.5001,-63.2485 1086.5001,-63.2484\"/>\n</g>\n<!-- 28 -->\n<g id=\"node29\" class=\"node\">\n<title>28</title>\n<path fill=\"#ffffff\" stroke=\"#000000\" d=\"M1279.5,-53C1279.5,-53 1176.5,-53 1176.5,-53 1170.5,-53 1164.5,-47 1164.5,-41 1164.5,-41 1164.5,-12 1164.5,-12 1164.5,-6 1170.5,0 1176.5,0 1176.5,0 1279.5,0 1279.5,0 1285.5,0 1291.5,-6 1291.5,-12 1291.5,-12 1291.5,-41 1291.5,-41 1291.5,-47 1285.5,-53 1279.5,-53\"/>\n<text text-anchor=\"middle\" x=\"1228\" y=\"-37.8\" font-family=\"Helvetica,sans-Serif\" font-size=\"14.00\" fill=\"#000000\">samples = 2.0%</text>\n<text text-anchor=\"middle\" x=\"1228\" y=\"-22.8\" font-family=\"Helvetica,sans-Serif\" font-size=\"14.00\" fill=\"#000000\">value = [0.5, 0.5]</text>\n<text text-anchor=\"middle\" x=\"1228\" y=\"-7.8\" font-family=\"Helvetica,sans-Serif\" font-size=\"14.00\" fill=\"#000000\">class = NotPurch</text>\n</g>\n<!-- 27&#45;&gt;28 -->\n<g id=\"edge28\" class=\"edge\">\n<title>27&#45;&gt;28</title>\n<path fill=\"none\" stroke=\"#000000\" d=\"M1250.6603,-88.9777C1247.5716,-80.4617 1244.2474,-71.2963 1241.1222,-62.6798\"/>\n<polygon fill=\"#000000\" stroke=\"#000000\" points=\"1244.4015,-61.4559 1237.7015,-53.2485 1237.8209,-63.8426 1244.4015,-61.4559\"/>\n</g>\n<!-- 29 -->\n<g id=\"node30\" class=\"node\">\n<title>29</title>\n<path fill=\"#49a5e7\" stroke=\"#000000\" d=\"M1454,-53C1454,-53 1322,-53 1322,-53 1316,-53 1310,-47 1310,-41 1310,-41 1310,-12 1310,-12 1310,-6 1316,0 1322,0 1322,0 1454,0 1454,0 1460,0 1466,-6 1466,-12 1466,-12 1466,-41 1466,-41 1466,-47 1460,-53 1454,-53\"/>\n<text text-anchor=\"middle\" x=\"1388\" y=\"-37.8\" font-family=\"Helvetica,sans-Serif\" font-size=\"14.00\" fill=\"#000000\">samples = 4.3%</text>\n<text text-anchor=\"middle\" x=\"1388\" y=\"-22.8\" font-family=\"Helvetica,sans-Serif\" font-size=\"14.00\" fill=\"#000000\">value = [0.077, 0.923]</text>\n<text text-anchor=\"middle\" x=\"1388\" y=\"-7.8\" font-family=\"Helvetica,sans-Serif\" font-size=\"14.00\" fill=\"#000000\">class = Purchased</text>\n</g>\n<!-- 27&#45;&gt;29 -->\n<g id=\"edge29\" class=\"edge\">\n<title>27&#45;&gt;29</title>\n<path fill=\"none\" stroke=\"#000000\" d=\"M1307.0703,-88.9777C1319.5248,-79.3629 1333.0515,-68.9203 1345.4167,-59.3743\"/>\n<polygon fill=\"#000000\" stroke=\"#000000\" points=\"1347.5749,-62.1299 1353.3517,-53.2485 1343.2972,-56.5889 1347.5749,-62.1299\"/>\n</g>\n<!-- 31 -->\n<g id=\"node32\" class=\"node\">\n<title>31</title>\n<path fill=\"#ffffff\" stroke=\"#000000\" d=\"M1624.5,-157C1624.5,-157 1481.5,-157 1481.5,-157 1475.5,-157 1469.5,-151 1469.5,-145 1469.5,-145 1469.5,-101 1469.5,-101 1469.5,-95 1475.5,-89 1481.5,-89 1481.5,-89 1624.5,-89 1624.5,-89 1630.5,-89 1636.5,-95 1636.5,-101 1636.5,-101 1636.5,-145 1636.5,-145 1636.5,-151 1630.5,-157 1624.5,-157\"/>\n<text text-anchor=\"middle\" x=\"1553\" y=\"-141.8\" font-family=\"Helvetica,sans-Serif\" font-size=\"14.00\" fill=\"#000000\">User ID &lt;= 15671744.5</text>\n<text text-anchor=\"middle\" x=\"1553\" y=\"-126.8\" font-family=\"Helvetica,sans-Serif\" font-size=\"14.00\" fill=\"#000000\">samples = 0.7%</text>\n<text text-anchor=\"middle\" x=\"1553\" y=\"-111.8\" font-family=\"Helvetica,sans-Serif\" font-size=\"14.00\" fill=\"#000000\">value = [0.5, 0.5]</text>\n<text text-anchor=\"middle\" x=\"1553\" y=\"-96.8\" font-family=\"Helvetica,sans-Serif\" font-size=\"14.00\" fill=\"#000000\">class = NotPurch</text>\n</g>\n<!-- 30&#45;&gt;31 -->\n<g id=\"edge31\" class=\"edge\">\n<title>30&#45;&gt;31</title>\n<path fill=\"none\" stroke=\"#000000\" d=\"M1553,-192.9465C1553,-184.776 1553,-175.9318 1553,-167.3697\"/>\n<polygon fill=\"#000000\" stroke=\"#000000\" points=\"1556.5001,-167.13 1553,-157.13 1549.5001,-167.13 1556.5001,-167.13\"/>\n</g>\n<!-- 34 -->\n<g id=\"node35\" class=\"node\">\n<title>34</title>\n<path fill=\"#399de5\" stroke=\"#000000\" d=\"M1779.5,-149.5C1779.5,-149.5 1666.5,-149.5 1666.5,-149.5 1660.5,-149.5 1654.5,-143.5 1654.5,-137.5 1654.5,-137.5 1654.5,-108.5 1654.5,-108.5 1654.5,-102.5 1660.5,-96.5 1666.5,-96.5 1666.5,-96.5 1779.5,-96.5 1779.5,-96.5 1785.5,-96.5 1791.5,-102.5 1791.5,-108.5 1791.5,-108.5 1791.5,-137.5 1791.5,-137.5 1791.5,-143.5 1785.5,-149.5 1779.5,-149.5\"/>\n<text text-anchor=\"middle\" x=\"1723\" y=\"-134.3\" font-family=\"Helvetica,sans-Serif\" font-size=\"14.00\" fill=\"#000000\">samples = 6.7%</text>\n<text text-anchor=\"middle\" x=\"1723\" y=\"-119.3\" font-family=\"Helvetica,sans-Serif\" font-size=\"14.00\" fill=\"#000000\">value = [0.0, 1.0]</text>\n<text text-anchor=\"middle\" x=\"1723\" y=\"-104.3\" font-family=\"Helvetica,sans-Serif\" font-size=\"14.00\" fill=\"#000000\">class = Purchased</text>\n</g>\n<!-- 30&#45;&gt;34 -->\n<g id=\"edge34\" class=\"edge\">\n<title>30&#45;&gt;34</title>\n<path fill=\"none\" stroke=\"#000000\" d=\"M1608.6644,-192.9465C1628.7401,-180.6649 1651.3043,-166.8609 1671.0501,-154.7811\"/>\n<polygon fill=\"#000000\" stroke=\"#000000\" points=\"1672.9099,-157.7464 1679.6138,-149.5422 1669.2569,-151.7751 1672.9099,-157.7464\"/>\n</g>\n<!-- 32 -->\n<g id=\"node33\" class=\"node\">\n<title>32</title>\n<path fill=\"#399de5\" stroke=\"#000000\" d=\"M1609.5,-53C1609.5,-53 1496.5,-53 1496.5,-53 1490.5,-53 1484.5,-47 1484.5,-41 1484.5,-41 1484.5,-12 1484.5,-12 1484.5,-6 1490.5,0 1496.5,0 1496.5,0 1609.5,0 1609.5,0 1615.5,0 1621.5,-6 1621.5,-12 1621.5,-12 1621.5,-41 1621.5,-41 1621.5,-47 1615.5,-53 1609.5,-53\"/>\n<text text-anchor=\"middle\" x=\"1553\" y=\"-37.8\" font-family=\"Helvetica,sans-Serif\" font-size=\"14.00\" fill=\"#000000\">samples = 0.3%</text>\n<text text-anchor=\"middle\" x=\"1553\" y=\"-22.8\" font-family=\"Helvetica,sans-Serif\" font-size=\"14.00\" fill=\"#000000\">value = [0.0, 1.0]</text>\n<text text-anchor=\"middle\" x=\"1553\" y=\"-7.8\" font-family=\"Helvetica,sans-Serif\" font-size=\"14.00\" fill=\"#000000\">class = Purchased</text>\n</g>\n<!-- 31&#45;&gt;32 -->\n<g id=\"edge32\" class=\"edge\">\n<title>31&#45;&gt;32</title>\n<path fill=\"none\" stroke=\"#000000\" d=\"M1553,-88.9777C1553,-80.7364 1553,-71.887 1553,-63.5153\"/>\n<polygon fill=\"#000000\" stroke=\"#000000\" points=\"1556.5001,-63.2484 1553,-53.2485 1549.5001,-63.2485 1556.5001,-63.2484\"/>\n</g>\n<!-- 33 -->\n<g id=\"node34\" class=\"node\">\n<title>33</title>\n<path fill=\"#e58139\" stroke=\"#000000\" d=\"M1754.5,-53C1754.5,-53 1651.5,-53 1651.5,-53 1645.5,-53 1639.5,-47 1639.5,-41 1639.5,-41 1639.5,-12 1639.5,-12 1639.5,-6 1645.5,0 1651.5,0 1651.5,0 1754.5,0 1754.5,0 1760.5,0 1766.5,-6 1766.5,-12 1766.5,-12 1766.5,-41 1766.5,-41 1766.5,-47 1760.5,-53 1754.5,-53\"/>\n<text text-anchor=\"middle\" x=\"1703\" y=\"-37.8\" font-family=\"Helvetica,sans-Serif\" font-size=\"14.00\" fill=\"#000000\">samples = 0.3%</text>\n<text text-anchor=\"middle\" x=\"1703\" y=\"-22.8\" font-family=\"Helvetica,sans-Serif\" font-size=\"14.00\" fill=\"#000000\">value = [1.0, 0.0]</text>\n<text text-anchor=\"middle\" x=\"1703\" y=\"-7.8\" font-family=\"Helvetica,sans-Serif\" font-size=\"14.00\" fill=\"#000000\">class = NotPurch</text>\n</g>\n<!-- 31&#45;&gt;33 -->\n<g id=\"edge33\" class=\"edge\">\n<title>31&#45;&gt;33</title>\n<path fill=\"none\" stroke=\"#000000\" d=\"M1605.8844,-88.9777C1621.1144,-79.1798 1637.6806,-68.5222 1652.7464,-58.8298\"/>\n<polygon fill=\"#000000\" stroke=\"#000000\" points=\"1654.9057,-61.6024 1661.4221,-53.2485 1651.1184,-55.7154 1654.9057,-61.6024\"/>\n</g>\n</g>\n</svg>\n"
          },
          "metadata": {
            "tags": []
          },
          "execution_count": 53
        }
      ]
    },
    {
      "cell_type": "code",
      "metadata": {
        "colab": {
          "base_uri": "https://localhost:8080/"
        },
        "id": "9DQXxDC7CtYq",
        "outputId": "39ebf099-f0ef-4d05-8eab-46c8d969dc4a"
      },
      "source": [
        "# we have score or accuracy\n",
        "#cross validate the score - it splits 80-20 train and test\n",
        "from sklearn.model_selection import cross_val_score\n",
        "\n",
        "#inputs are tree, attribute df, target df\n",
        "scores = cross_val_score(t, dataset.iloc[:,:-1], dataset.iloc[:,-1], cv=5)  #tree, whole dataset att, whole dataset target\n",
        "\n",
        "# show average score and +/- two standard deviations away (covering 95% of scores)\n",
        "print(\"Accuracy: %0.2f (+/- %0.2f)\" % (scores.mean(), scores.std() * 2))\n",
        "\n"
      ],
      "execution_count": 60,
      "outputs": [
        {
          "output_type": "stream",
          "text": [
            "Accuracy: 0.83 (+/- 0.15)\n"
          ],
          "name": "stdout"
        }
      ]
    },
    {
      "cell_type": "code",
      "metadata": {
        "colab": {
          "base_uri": "https://localhost:8080/"
        },
        "id": "rwjj-k54V7vG",
        "outputId": "9c488c0e-3ec6-4e8e-dec6-5be9e9f08f76"
      },
      "source": [
        "# iterate over maxdepth to find the optimal max depth\n",
        "for md in range(1, 20):\n",
        "    t = tree.DecisionTreeClassifier(criterion=\"entropy\", max_depth=md)\n",
        "    scores = cross_val_score(t, dataset.iloc[:,:-1], dataset.iloc[:,-1], cv=5)\n",
        "    print(\"Max depth: %d, Accuracy: %0.2f (+/- %0.2f)\" % (md, scores.mean(), scores.std() * 2))\n",
        "\n",
        "# 2 or 3 is optimum depth for this dataset"
      ],
      "execution_count": 61,
      "outputs": [
        {
          "output_type": "stream",
          "text": [
            "Max depth: 1, Accuracy: 0.78 (+/- 0.18)\n",
            "Max depth: 2, Accuracy: 0.89 (+/- 0.12)\n",
            "Max depth: 3, Accuracy: 0.86 (+/- 0.12)\n",
            "Max depth: 4, Accuracy: 0.83 (+/- 0.10)\n",
            "Max depth: 5, Accuracy: 0.83 (+/- 0.16)\n",
            "Max depth: 6, Accuracy: 0.81 (+/- 0.10)\n",
            "Max depth: 7, Accuracy: 0.83 (+/- 0.08)\n",
            "Max depth: 8, Accuracy: 0.82 (+/- 0.09)\n",
            "Max depth: 9, Accuracy: 0.82 (+/- 0.09)\n",
            "Max depth: 10, Accuracy: 0.81 (+/- 0.10)\n",
            "Max depth: 11, Accuracy: 0.82 (+/- 0.10)\n",
            "Max depth: 12, Accuracy: 0.81 (+/- 0.10)\n",
            "Max depth: 13, Accuracy: 0.82 (+/- 0.11)\n",
            "Max depth: 14, Accuracy: 0.82 (+/- 0.10)\n",
            "Max depth: 15, Accuracy: 0.81 (+/- 0.11)\n",
            "Max depth: 16, Accuracy: 0.82 (+/- 0.09)\n",
            "Max depth: 17, Accuracy: 0.82 (+/- 0.11)\n",
            "Max depth: 18, Accuracy: 0.82 (+/- 0.08)\n",
            "Max depth: 19, Accuracy: 0.81 (+/- 0.11)\n"
          ],
          "name": "stdout"
        }
      ]
    }
  ]
}